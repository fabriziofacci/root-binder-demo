// %%cpp (magic command for C++ in some kernels)
{
   TH1F hist("hist", "My Histogram", 100, -5, 5);
   hist.FillRandom("gaus", 10000);
   TCanvas c;
   hist.Draw();
   c.Draw();
}
