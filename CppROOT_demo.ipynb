{
 "cells": [
  {
   "cell_type": "markdown",
   "metadata": {},
   "source": [
    "## ROOT C++ Example in Jupyter"
   ]
  },
  {
   "cell_type": "code",
   "execution_count": null,
   "metadata": {
    "kernel": "xcpp11"  // Forces C++11 kernel
   },
   "outputs": [],
   "source": [
    "#include <TH1F.h>\n",
    "#include <TCanvas.h>\n",
    "\n",
    "void demo() {\n",
    "    TH1F hist(\"hist\", \"My C++ Histogram\", 100, -5, 5);\n",
    "    hist.FillRandom(\"gaus\", 10000);\n",
    "    TCanvas c;\n",
    "    hist.Draw();\n",
    "    c.Draw();\n",
    "}"
   ]
  }
 ],
 "metadata": {
  "kernelspec": {
   "display_name": "C++11",
   "language": "C++11",
   "name": "xcpp11"
  }
 },
 "nbformat": 4,
 "nbformat_minor": 4
}
