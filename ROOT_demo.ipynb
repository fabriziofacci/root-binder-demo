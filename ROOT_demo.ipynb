{
 "cells": [
  {
   "cell_type": "code",
   "execution_count": null,
   "metadata": {},
   "outputs": [],
   "source": [
    "import ROOT\n",
    "\n",
    "# Create a histogram\n",
    "hist = ROOT.TH1F(\"hist\", \"My First ROOT Histogram\", 100, -5, 5)\n",
    "hist.FillRandom(\"gaus\", 10000)  # Fill with random Gaussian data\n",
    "\n",
    "# Draw it\n",
    "canvas = ROOT.TCanvas()\n",
    "hist.Draw()\n",
    "canvas.Draw()"
   ]
  }
 ],
 "metadata": {
  "kernelspec": {
   "display_name": "Python 3",
   "language": "python",
   "name": "python3"
  }
 },
 "nbformat": 4,
 "nbformat_minor": 4
}
